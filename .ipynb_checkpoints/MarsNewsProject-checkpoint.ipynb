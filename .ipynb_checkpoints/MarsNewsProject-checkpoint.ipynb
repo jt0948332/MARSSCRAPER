{
 "cells": [
  {
   "cell_type": "code",
   "execution_count": 27,
   "metadata": {
    "scrolled": false
   },
   "outputs": [],
   "source": [
    "#dependencies\n",
    "from bs4 import BeautifulSoup as bs\n",
    "import splinter\n",
    "import requests\n",
    "from splinter import Browser\n",
    "import time\n",
    "\n",
    "\n",
    "#url to visit\n",
    "url='https://mars.nasa.gov/news/'\n",
    "response = requests.get(url)\n",
    "soup = bs(response.text, 'html.parser')\n",
    "#results = soup.find_all('div', class_='bottom_gradient')#.find_all('div') #.find('div',class_='list_date').text\n",
    "\n",
    "###### re-run soup.prettify\n",
    "\n",
    "\n",
    "#soup.item_list\n",
    "#.text#, class_='content_title').text\n",
    "#for artresulticle in results:\n",
    "#title = result.find('ul',class_='item_list' )\n",
    "\n"
   ]
  },
  {
   "cell_type": "markdown",
   "metadata": {},
   "source": [
    "PART #2"
   ]
  },
  {
   "cell_type": "code",
   "execution_count": 79,
   "metadata": {},
   "outputs": [
    {
     "name": "stdout",
     "output_type": "stream",
     "text": [
      "https://www.jpl.nasa.gov/spaceimages/images/largesize/PIA16729_hires.jpg\n"
     ]
    }
   ],
   "source": [
    "executable_path = {'executable_path': 'C:/chromedriver/chromedriver.exe'}\n",
    "browser = Browser('chrome', **executable_path, headless=False)\n",
    "\n",
    "url = 'https://www.jpl.nasa.gov/spaceimages/?search=&category=Mars'\n",
    "\n",
    "browser.visit(url)\n",
    "\n",
    "browser.click_link_by_id('full_image')\n",
    "time.sleep(3)\n",
    "browser.click_link_by_partial_text('more info')\n",
    "time.sleep(3)\n",
    "\n",
    "time.sleep(3)\n",
    "browser.click_link_by_partial_href('/spaceimages/images/')\n",
    "#Download the image and Store\n",
    "response = requests.get(browser.url)\n",
    "if response.status_code == 200:\n",
    "    linkname= (browser.url.rsplit('/', 1)[-1])\n",
    "    SaveFile = (f'C:/Nasa/{linkname}')\n",
    "    with open(SaveFile, 'wb') as f:\n",
    "        f.write(response.content)"
   ]
  },
  {
   "cell_type": "code",
   "execution_count": 78,
   "metadata": {},
   "outputs": [],
   "source": []
  }
 ],
 "metadata": {
  "kernelspec": {
   "display_name": "Python 3",
   "language": "python",
   "name": "python3"
  },
  "language_info": {
   "codemirror_mode": {
    "name": "ipython",
    "version": 3
   },
   "file_extension": ".py",
   "mimetype": "text/x-python",
   "name": "python",
   "nbconvert_exporter": "python",
   "pygments_lexer": "ipython3",
   "version": "3.6.7"
  }
 },
 "nbformat": 4,
 "nbformat_minor": 2
}
