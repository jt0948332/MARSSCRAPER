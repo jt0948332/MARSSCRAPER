{
 "cells": [
  {
   "cell_type": "code",
   "execution_count": 149,
   "metadata": {},
   "outputs": [],
   "source": [
    "#dependencies\n",
    "from bs4 import BeautifulSoup as bs\n",
    "import splinter\n",
    "import requests\n",
    "from splinter import Browser\n",
    "import time\n",
    "import pandas as pd\n",
    "from selenium import webdriver\n",
    "import os\n",
    "import pymongo\n",
    "import json"
   ]
  },
  {
   "cell_type": "code",
   "execution_count": 195,
   "metadata": {},
   "outputs": [],
   "source": [
    "mars_facts_data={}"
   ]
  },
  {
   "cell_type": "markdown",
   "metadata": {},
   "source": [
    "NASA MARS NEWS"
   ]
  },
  {
   "cell_type": "code",
   "execution_count": 193,
   "metadata": {},
   "outputs": [],
   "source": [
    "#emulate the browser and get the html\n",
    "executable_path = {'executable_path': 'C:/chromedriver/chromedriver.exe'}\n",
    "browser = Browser('chrome', **executable_path, headless=False)\n",
    "#url to visit\n",
    "url='https://mars.nasa.gov/news/'\n",
    "#we need to use the browser to visit the page because there are many elements that do not load until the page is loaded.\n",
    "#requests would only get the raw html.\n",
    "browser.visit(url)\n",
    "html = browser.html\n",
    "soup = bs(html, 'html.parser')\n",
    "news_p =soup.select_one(\"div.rollover_description_inner\")\n",
    "news_title = soup.select_one(\"div.content_title\")\n",
    "news_p = news_p.text\n",
    "news_title = news_title.text\n",
    "mars_facts_data['news_title'] = news_title\n",
    "mars_facts_data['news_paragraph'] = news_p"
   ]
  },
  {
   "cell_type": "code",
   "execution_count": 197,
   "metadata": {},
   "outputs": [
    {
     "data": {
      "text/plain": [
       "{'news_title': 'For InSight, Dust Cleanings Will Yield New Science',\n",
       " 'news_paragraph': 'Wind can be crucial to clearing dust from spacecraft solar panels on Mars. With InSight\\'s meteorological sensors, scientists get their first measurements of wind and dust interacting \"live\" on the Martian surface.  '}"
      ]
     },
     "execution_count": 197,
     "metadata": {},
     "output_type": "execute_result"
    }
   ],
   "source": [
    "\n",
    "mars_facts_data"
   ]
  },
  {
   "cell_type": "code",
   "execution_count": 151,
   "metadata": {},
   "outputs": [
    {
     "data": {
      "text/plain": [
       "<pymongo.results.InsertOneResult at 0x207be466a48>"
      ]
     },
     "execution_count": 151,
     "metadata": {},
     "output_type": "execute_result"
    }
   ],
   "source": [
    "#create a dictionary from the varibles and insert into Mongo\n",
    "news_dict={}\n",
    "news_dict['Title'] = news_title\n",
    "news_dict['Paragraph'] = news_p\n",
    "db = client.MarsScrape\n",
    "collection = db.MarsNews\n",
    "collection.insert_one(news_dict)"
   ]
  },
  {
   "cell_type": "markdown",
   "metadata": {},
   "source": [
    "PART #2 JPL MARS SPACE IMAGES - FEATURED IMAGES"
   ]
  },
  {
   "cell_type": "code",
   "execution_count": 152,
   "metadata": {},
   "outputs": [
    {
     "name": "stdout",
     "output_type": "stream",
     "text": [
      "https://www.jpl.nasa.gov/spaceimages/images/largesize/PIA15253_hires.jpg\n"
     ]
    },
    {
     "data": {
      "text/plain": [
       "<pymongo.results.InsertOneResult at 0x207be3815c8>"
      ]
     },
     "execution_count": 152,
     "metadata": {},
     "output_type": "execute_result"
    }
   ],
   "source": [
    "executable_path = {'executable_path': 'C:/chromedriver/chromedriver.exe'}\n",
    "browser = Browser('chrome', **executable_path, headless=False)\n",
    "\n",
    "url = 'https://www.jpl.nasa.gov/spaceimages/?search=&category=Mars'\n",
    "\n",
    "browser.visit(url)\n",
    "\n",
    "browser.click_link_by_id('full_image')\n",
    "time.sleep(3)\n",
    "browser.click_link_by_partial_text('more info')\n",
    "time.sleep(3)\n",
    "\n",
    "time.sleep(3)\n",
    "browser.click_link_by_partial_href('/spaceimages/images/')\n",
    "#Download the image and Store\n",
    "response = requests.get(browser.url)\n",
    "if response.status_code == 200:\n",
    "    linkname= (browser.url.rsplit('/', 1)[-1])\n",
    "    SaveFile = (f'Resources/{linkname}')\n",
    "    with open(SaveFile, 'wb') as f:\n",
    "        f.write(response.content)\n",
    "print(browser.url)\n",
    "Space_image_dict = {}\n",
    "Space_image_dict['Url'] = browser.url\n",
    "collection.insert_one(Space_image_dict)"
   ]
  },
  {
   "cell_type": "code",
   "execution_count": 153,
   "metadata": {},
   "outputs": [
    {
     "data": {
      "text/plain": [
       "<pymongo.results.InsertOneResult at 0x207bebebfc8>"
      ]
     },
     "execution_count": 153,
     "metadata": {},
     "output_type": "execute_result"
    }
   ],
   "source": [
    "#lets insert this one into the Mongo DB\n",
    "Space_image_dict = {}\n",
    "Space_image_dict['Url'] = browser.url\n",
    "collection.insert_one(Space_image_dict)"
   ]
  },
  {
   "cell_type": "code",
   "execution_count": 154,
   "metadata": {},
   "outputs": [
    {
     "name": "stdout",
     "output_type": "stream",
     "text": [
      "Resources\\PIA15253_hires.jpg\n"
     ]
    }
   ],
   "source": [
    "#this lists the most recent file in the directory\n",
    "os.listdir('Resources/')\n",
    "test='Resources/'\n",
    "import glob\n",
    "import os\n",
    "\n",
    "files_path = os.path.join(test, '*')\n",
    "files = sorted(\n",
    "    glob.iglob(files_path), key=os.path.getctime, reverse=True) \n",
    "print(files[0])"
   ]
  },
  {
   "cell_type": "markdown",
   "metadata": {},
   "source": [
    "#3 MARS WEATHER -- TWITTER PULL"
   ]
  },
  {
   "cell_type": "code",
   "execution_count": 178,
   "metadata": {},
   "outputs": [
    {
     "data": {
      "text/plain": [
       "{'Text': 'InSight sol 158 (2019-05-07) low -99.7ºC (-147.5ºF) high -21.8ºC (-7.2ºF)\\nwinds from the SSE at 4.8 m/s (10.7 mph) gusting to 13.6 m/s (30.4 mph)\\npressure at 7.50 hPapic.twitter.com/8SrPjAhpGZ'}"
      ]
     },
     "execution_count": 178,
     "metadata": {},
     "output_type": "execute_result"
    }
   ],
   "source": [
    "mars_weather_dict = {}\n",
    "url='https://twitter.com/marswxreport?lang=en'\n",
    "response = requests.get(url)\n",
    "soup = bs(response.text, 'html.parser')\n",
    "mars_weather = soup.find('p', class_='TweetTextSize TweetTextSize--normal js-tweet-text tweet-text').text\n",
    "mars_weather =mars_weather.strip()\n",
    "mars_weather_dict['Text'] = mars_weather\n",
    "mars_weather_dict\n",
    "#collection.insert_one(mars_weather_dict)"
   ]
  },
  {
   "cell_type": "markdown",
   "metadata": {},
   "source": [
    "#4 MARS FACTS Pandas Pull Table"
   ]
  },
  {
   "cell_type": "code",
   "execution_count": 191,
   "metadata": {
    "scrolled": true
   },
   "outputs": [
    {
     "data": {
      "text/plain": [
       "{'Measure': {'Equatorial Diameter:': '6,792 km',\n",
       "  'Polar Diameter:': '6,752 km',\n",
       "  'Mass:': '6.42 x 10^23 kg (10.7% Earth)',\n",
       "  'Moons:': '2 (Phobos & Deimos)',\n",
       "  'Orbit Distance:': '227,943,824 km (1.52 AU)',\n",
       "  'Orbit Period:': '687 days (1.9 years)',\n",
       "  'Surface Temperature:': '-153 to 20 °C',\n",
       "  'First Record:': '2nd millennium BC',\n",
       "  'Recorded By:': 'Egyptian astronomers'},\n",
       " '_id': ObjectId('5cd3951b25f75f6ba4f931b1')}"
      ]
     },
     "execution_count": 191,
     "metadata": {},
     "output_type": "execute_result"
    }
   ],
   "source": [
    "Facts_dictionary = {}\n",
    "url = 'https://space-facts.com/mars/'\n",
    "df = pd.read_html(url)\n",
    "#df = pd.DataFrame(df)\n",
    "df= df[0]\n",
    "df.columns = ['Category', 'Measure']\n",
    "df.set_index('Category',inplace = True)\n",
    "\n",
    "#add to dictionary and add to Mongo\n",
    "Facts_dictionary = df.to_dict() \n",
    "\n",
    "collection.insert_one(Facts_dictionary)\n",
    "Facts_dictionary"
   ]
  },
  {
   "cell_type": "markdown",
   "metadata": {},
   "source": [
    "PART 5 MARS HEMISPHERES"
   ]
  },
  {
   "cell_type": "code",
   "execution_count": 185,
   "metadata": {},
   "outputs": [
    {
     "name": "stdout",
     "output_type": "stream",
     "text": [
      "Cerberus Hemisphere Enhanced\n",
      "Schiaparelli Hemisphere Enhanced\n",
      "Syrtis Major Hemisphere Enhanced\n",
      "Valles Marineris Hemisphere Enhanced\n"
     ]
    }
   ],
   "source": [
    "#part 5\n",
    "#https://astrogeology.usgs.gov/search/results?q=hemisphere+enhanced&k1=target&v1=Mars\n",
    "executable_path = {'executable_path': 'C:/chromedriver/chromedriver.exe'}\n",
    "browser = Browser('chrome', **executable_path, headless=False)\n",
    "url = 'https://astrogeology.usgs.gov/search/results?q=hemisphere+enhanced&k1=target&v1=Mars'\n",
    "response = requests.get(url)\n",
    "soup = bs(response.text, 'html.parser')\n",
    "#browser.visit(url)\n",
    "soup\n",
    "h3s = soup.find_all('a', class_='itemLink product-item')\n",
    "#BUILD A BRAND NEW LINK TO DISPLAY\n",
    "main_url = 'https://astropedia.astrogeology.usgs.gov/download/'\n",
    "hemisphere_image_urls=[]\n",
    "Hemisphere_dict = {}\n",
    "for item in h3s:\n",
    "    titles = item.text\n",
    "    print(item.text)\n",
    "    link= (item['href'])\n",
    "    split= (link.split('/',3))    \n",
    "    img_url = f'{main_url}{split[3]}.tif/full.jpg'\n",
    "    Hemisphere_dict['title'] = title\n",
    "    Hemisphere_dict['img_url'] = img_url\n",
    "    #dictionary append----is this correct? \n",
    "    hemisphere_image_urls.append(Hemisphere_dict)\n",
    "#List to be added to Mongo\n",
    "#hemisphere_image_urls\n"
   ]
  },
  {
   "cell_type": "code",
   "execution_count": 186,
   "metadata": {},
   "outputs": [
    {
     "data": {
      "text/plain": [
       "[{'title': '_id',\n",
       "  'img_url': 'https://astropedia.astrogeology.usgs.gov/download/Mars/Viking/valles_marineris_enhanced.tif/full.jpg'},\n",
       " {'title': '_id',\n",
       "  'img_url': 'https://astropedia.astrogeology.usgs.gov/download/Mars/Viking/valles_marineris_enhanced.tif/full.jpg'},\n",
       " {'title': '_id',\n",
       "  'img_url': 'https://astropedia.astrogeology.usgs.gov/download/Mars/Viking/valles_marineris_enhanced.tif/full.jpg'},\n",
       " {'title': '_id',\n",
       "  'img_url': 'https://astropedia.astrogeology.usgs.gov/download/Mars/Viking/valles_marineris_enhanced.tif/full.jpg'}]"
      ]
     },
     "execution_count": 186,
     "metadata": {},
     "output_type": "execute_result"
    }
   ],
   "source": [
    "hemisphere_image_urls"
   ]
  },
  {
   "cell_type": "code",
   "execution_count": 160,
   "metadata": {},
   "outputs": [],
   "source": [
    "collection = db.MarsNewsDue\n",
    "for title, img_url in hemisphere_image_urls[0].items():\n",
    "    collection.insert_one({'title': title,\n",
    "                           'img_url': img_url})\n"
   ]
  },
  {
   "cell_type": "code",
   "execution_count": 148,
   "metadata": {},
   "outputs": [
    {
     "data": {
      "text/plain": [
       "<pymongo.results.InsertOneResult at 0x207be2fbb08>"
      ]
     },
     "execution_count": 148,
     "metadata": {},
     "output_type": "execute_result"
    }
   ],
   "source": [
    "#WRITE TO MONGO\n",
    "#insert into Mongo\n",
    "#REMEMBER TO START MONGOD!!!!!!!!\n",
    "conn = 'mongodb://localhost:27017'\n",
    "client=pymongo.MongoClient(conn)\n",
    "#define DB and collatcion/table to work with\n",
    "db = client.MarsScrape\n",
    "collection.insert_one(hemisphere_image_urls[0])"
   ]
  },
  {
   "cell_type": "code",
   "execution_count": 182,
   "metadata": {},
   "outputs": [],
   "source": [
    "# url to visit\n",
    "    results={}\n",
    "    url = 'https://astrogeology.usgs.gov'\n",
    "    url1 = '/search/results?q=hemisphere+enhanced&k1=target&v1=Mars'\n",
    "\n",
    "    # launch browser\n",
    "    browser.visit(url+url1)\n",
    "\n",
    "    # create beautifulsoup object\n",
    "    soup = bs(browser.html, 'html.parser')\n",
    "\n",
    "    # find section with images on the page\n",
    "    div = soup.find('div', class_='results').findAll('div', class_='description')\n",
    "\n",
    "    # extract urls\n",
    "    urls = []\n",
    "    for item in div:\n",
    "        links = item.findAll('a')\n",
    "        for a in links:\n",
    "            urls.append(a.get('href'))\n",
    "\n",
    "    # visit urls to extract links and titles\n",
    "    hemisphere_image_urls = []\n",
    "    for u in urls:\n",
    "        result_dict = {}\n",
    "        browser.visit(url+u)\n",
    "        soup = bs(browser.html, 'html.parser')\n",
    "\n",
    "        # find and extract links to images\n",
    "        links = soup.find('div', class_='downloads').findAll('a')\n",
    "        result_dict['img_url_jpeg'] = links[0].get('href')\n",
    "        result_dict['img_url'] = links[1].get('href')\n",
    "\n",
    "        # extract title\n",
    "        result_dict['title'] = soup.find('h2', class_='title').text\n",
    "\n",
    "        # append dict to results list\n",
    "        hemisphere_image_urls.append(result_dict)\n",
    "\n",
    "    results['hemisphere_image_urls'] = hemisphere_image_urls\n"
   ]
  },
  {
   "cell_type": "code",
   "execution_count": 184,
   "metadata": {},
   "outputs": [
    {
     "data": {
      "text/plain": [
       "<pymongo.results.InsertOneResult at 0x207c26ef588>"
      ]
     },
     "execution_count": 184,
     "metadata": {},
     "output_type": "execute_result"
    }
   ],
   "source": [
    "collection.insert_one(results)"
   ]
  }
 ],
 "metadata": {
  "kernelspec": {
   "display_name": "Python 3",
   "language": "python",
   "name": "python3"
  },
  "language_info": {
   "codemirror_mode": {
    "name": "ipython",
    "version": 3
   },
   "file_extension": ".py",
   "mimetype": "text/x-python",
   "name": "python",
   "nbconvert_exporter": "python",
   "pygments_lexer": "ipython3",
   "version": "3.6.7"
  }
 },
 "nbformat": 4,
 "nbformat_minor": 2
}
